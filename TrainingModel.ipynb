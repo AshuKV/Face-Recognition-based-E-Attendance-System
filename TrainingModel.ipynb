{
  "nbformat": 4,
  "nbformat_minor": 0,
  "metadata": {
    "colab": {
      "name": "TrainingModel.ipynb",
      "provenance": [],
      "collapsed_sections": []
    },
    "kernelspec": {
      "name": "python3",
      "display_name": "Python 3"
    },
    "accelerator": "GPU"
  },
  "cells": [
    {
      "cell_type": "code",
      "metadata": {
        "id": "v_nwma_CYqk2",
        "colab": {
          "base_uri": "https://localhost:8080/",
          "height": 122
        },
        "outputId": "40f236b0-b9e8-4388-d2de-36a098b2487b"
      },
      "source": [
        "from google.colab import drive\n",
        "drive.mount('gdrive')"
      ],
      "execution_count": null,
      "outputs": [
        {
          "output_type": "stream",
          "text": [
            "Go to this URL in a browser: https://accounts.google.com/o/oauth2/auth?client_id=947318989803-6bn6qk8qdgf4n4g3pfee6491hc0brc4i.apps.googleusercontent.com&redirect_uri=urn%3aietf%3awg%3aoauth%3a2.0%3aoob&response_type=code&scope=email%20https%3a%2f%2fwww.googleapis.com%2fauth%2fdocs.test%20https%3a%2f%2fwww.googleapis.com%2fauth%2fdrive%20https%3a%2f%2fwww.googleapis.com%2fauth%2fdrive.photos.readonly%20https%3a%2f%2fwww.googleapis.com%2fauth%2fpeopleapi.readonly\n",
            "\n",
            "Enter your authorization code:\n",
            "··········\n",
            "Mounted at gdrive\n"
          ],
          "name": "stdout"
        }
      ]
    },
    {
      "cell_type": "code",
      "metadata": {
        "id": "l7r5UYsOBS0z",
        "colab": {
          "base_uri": "https://localhost:8080/",
          "height": 51
        },
        "outputId": "a3860de6-5432-4533-9fad-0ee51d17b92b"
      },
      "source": [
        "#from google.colab import drive\n",
        "#drive.mount('/content/drive')\n",
        "!pwd\n",
        "!ls"
      ],
      "execution_count": null,
      "outputs": [
        {
          "output_type": "stream",
          "text": [
            "/content\n",
            "gdrive\tsample_data\n"
          ],
          "name": "stdout"
        }
      ]
    },
    {
      "cell_type": "markdown",
      "metadata": {
        "id": "l7b-bBSKY9sf"
      },
      "source": [
        "Mounting GDrive on Colab"
      ]
    },
    {
      "cell_type": "code",
      "metadata": {
        "id": "QjFakoFnQwyC",
        "colab": {
          "base_uri": "https://localhost:8080/",
          "height": 646
        },
        "outputId": "9d56fb44-a4d1-4f0b-b4a4-693f214360c4"
      },
      "source": [
        "!apt update\n",
        "!apt install -y cmake\n",
        "!pip install dlib\n",
        "!cmake --version"
      ],
      "execution_count": null,
      "outputs": [
        {
          "output_type": "stream",
          "text": [
            "\u001b[33m\r0% [Working]\u001b[0m\r            \rGet:1 https://cloud.r-project.org/bin/linux/ubuntu bionic-cran35/ InRelease [3,626 B]\n",
            "\u001b[33m\r0% [Connecting to archive.ubuntu.com (91.189.88.152)] [Connecting to security.u\u001b[0m\u001b[33m\r0% [Connecting to archive.ubuntu.com (91.189.88.152)] [Connecting to security.u\u001b[0m\r                                                                               \rIgn:2 https://developer.download.nvidia.com/compute/cuda/repos/ubuntu1804/x86_64  InRelease\n",
            "\u001b[33m\r0% [Connecting to archive.ubuntu.com (91.189.88.152)] [Connecting to security.u\u001b[0m\u001b[33m\r0% [1 InRelease gpgv 3,626 B] [Connecting to archive.ubuntu.com (91.189.88.152)\u001b[0m\r                                                                               \rIgn:3 https://developer.download.nvidia.com/compute/machine-learning/repos/ubuntu1804/x86_64  InRelease\n",
            "\u001b[33m\r0% [1 InRelease gpgv 3,626 B] [Connecting to archive.ubuntu.com (91.189.88.152)\u001b[0m\r                                                                               \rHit:4 https://developer.download.nvidia.com/compute/cuda/repos/ubuntu1804/x86_64  Release\n",
            "\u001b[33m\r0% [1 InRelease gpgv 3,626 B] [Connecting to archive.ubuntu.com (91.189.88.152)\u001b[0m\r                                                                               \rHit:5 https://developer.download.nvidia.com/compute/machine-learning/repos/ubuntu1804/x86_64  Release\n",
            "\u001b[33m\r0% [1 InRelease gpgv 3,626 B] [Connecting to archive.ubuntu.com (91.189.88.152)\u001b[0m\r                                                                               \rGet:6 http://ppa.launchpad.net/graphics-drivers/ppa/ubuntu bionic InRelease [21.3 kB]\n",
            "\u001b[33m\r0% [1 InRelease gpgv 3,626 B] [Waiting for headers] [Connecting to security.ubu\u001b[0m\u001b[33m\r0% [Waiting for headers] [Waiting for headers] [6 InRelease 14.2 kB/21.3 kB 67%\u001b[0m\u001b[33m\r0% [Release.gpg gpgv 564 B] [Waiting for headers] [Waiting for headers] [Waitin\u001b[0m\r                                                                               \rGet:7 https://cloud.r-project.org/bin/linux/ubuntu bionic-cran35/ Packages [88.1 kB]\n",
            "\u001b[33m\r0% [Release.gpg gpgv 564 B] [Waiting for headers] [Waiting for headers] [7 Pack\u001b[0m\u001b[33m\r0% [Release.gpg gpgv 564 B] [Waiting for headers] [Waiting for headers] [6 InRe\u001b[0m\u001b[33m\r0% [7 Packages store 0 B] [Release.gpg gpgv 564 B] [Waiting for headers] [Waiti\u001b[0m\r                                                                               \rHit:8 http://archive.ubuntu.com/ubuntu bionic InRelease\n",
            "\u001b[33m\r0% [7 Packages store 0 B] [Release.gpg gpgv 564 B] [Waiting for headers] [6 InR\u001b[0m\u001b[33m\r0% [Release.gpg gpgv 564 B] [Waiting for headers] [Waiting for headers] [6 InRe\u001b[0m\r                                                                               \rGet:9 http://security.ubuntu.com/ubuntu bionic-security InRelease [88.7 kB]\n",
            "\u001b[33m\r0% [Release.gpg gpgv 564 B] [Waiting for headers] [9 InRelease 2,587 B/88.7 kB \u001b[0m\u001b[33m\r0% [Release.gpg gpgv 564 B] [Waiting for headers] [9 InRelease 5,483 B/88.7 kB \u001b[0m\u001b[33m\r0% [Waiting for headers] [9 InRelease 14.2 kB/88.7 kB 16%] [Connecting to ppa.l\u001b[0m\u001b[33m\r0% [Release.gpg gpgv 564 B] [Waiting for headers] [9 InRelease 14.2 kB/88.7 kB \u001b[0m\r                                                                               \rGet:11 http://archive.ubuntu.com/ubuntu bionic-updates InRelease [88.7 kB]\n",
            "\u001b[33m\r0% [Release.gpg gpgv 564 B] [11 InRelease 2,604 B/88.7 kB 3%] [9 InRelease 14.2\u001b[0m\u001b[33m\r0% [11 InRelease 15.6 kB/88.7 kB 18%] [9 InRelease 34.4 kB/88.7 kB 39%] [Waitin\u001b[0m\u001b[33m\r0% [8 InRelease gpgv 242 kB] [11 InRelease 15.6 kB/88.7 kB 18%] [9 InRelease 34\u001b[0m\r                                                                               \rGet:13 http://ppa.launchpad.net/marutter/c2d4u3.5/ubuntu bionic InRelease [15.4 kB]\n",
            "\u001b[33m\r0% [8 InRelease gpgv 242 kB] [11 InRelease 30.1 kB/88.7 kB 34%] [9 InRelease 48\u001b[0m\u001b[33m\r0% [8 InRelease gpgv 242 kB] [11 InRelease 33.0 kB/88.7 kB 37%] [9 InRelease 51\u001b[0m\u001b[33m\r                                                                               \r0% [11 InRelease 53.3 kB/88.7 kB 60%] [9 InRelease 80.8 kB/88.7 kB 91%]\u001b[0m\u001b[33m\r0% [6 InRelease gpgv 21.3 kB] [11 InRelease 53.3 kB/88.7 kB 60%] [9 InRelease 8\u001b[0m\u001b[33m\r                                                                               \r0% [6 InRelease gpgv 21.3 kB] [11 InRelease 59.1 kB/88.7 kB 67%]\u001b[0m\u001b[33m\r                                                                \r0% [6 InRelease gpgv 21.3 kB]\u001b[0m\u001b[33m\r                             \r0% [Waiting for headers]\u001b[0m\u001b[33m\r0% [13 InRelease gpgv 15.4 kB] [Waiting for headers] [Connecting to ppa.launchp\u001b[0m\r                                                                               \rGet:14 http://archive.ubuntu.com/ubuntu bionic-backports InRelease [74.6 kB]\n",
            "\u001b[33m\r0% [13 InRelease gpgv 15.4 kB] [14 InRelease 2,604 B/74.6 kB 3%] [Connecting to\u001b[0m\u001b[33m\r0% [14 InRelease 46.0 kB/74.6 kB 62%] [Connecting to ppa.launchpad.net (91.189.\u001b[0m\u001b[33m\r0% [9 InRelease gpgv 88.7 kB] [14 InRelease 46.0 kB/74.6 kB 62%] [Connecting to\u001b[0m\u001b[33m\r                                                                               \r0% [9 InRelease gpgv 88.7 kB] [Waiting for headers]\u001b[0m\u001b[33m\r                                                   \r0% [Waiting for headers]\u001b[0m\r                        \rGet:15 http://ppa.launchpad.net/graphics-drivers/ppa/ubuntu bionic/main amd64 Packages [37.4 kB]\n",
            "\u001b[33m\r0% [15 Packages 14.3 kB/37.4 kB 38%]\u001b[0m\u001b[33m\r0% [11 InRelease gpgv 88.7 kB] [Waiting for headers] [15 Packages 14.3 kB/37.4 \u001b[0m\r                                                                               \rGet:16 http://security.ubuntu.com/ubuntu bionic-security/multiverse amd64 Packages [8,213 B]\n",
            "\u001b[33m\r0% [11 InRelease gpgv 88.7 kB] [16 Packages 2,690 B/8,213 B 33%] [15 Packages 1\u001b[0m\u001b[33m\r                                                                               \r0% [11 InRelease gpgv 88.7 kB] [15 Packages 20.1 kB/37.4 kB 54%]\u001b[0m\u001b[33m\r0% [11 InRelease gpgv 88.7 kB] [15 Packages 20.1 kB/37.4 kB 54%]\u001b[0m\u001b[33m\r                                                                \r0% [Waiting for headers] [15 Packages 20.1 kB/37.4 kB 54%]\u001b[0m\u001b[33m\r0% [14 InRelease gpgv 74.6 kB] [Waiting for headers] [Waiting for headers] [15 \u001b[0m\u001b[33m\r                                                                               \r0% [14 InRelease gpgv 74.6 kB] [Waiting for headers] [Waiting for headers]\u001b[0m\u001b[33m\r0% [15 Packages store 0 B] [14 InRelease gpgv 74.6 kB] [Waiting for headers] [W\u001b[0m\u001b[33m\r0% [14 InRelease gpgv 74.6 kB] [Waiting for headers] [Waiting for headers] [Con\u001b[0m\r                                                                               \rGet:17 http://security.ubuntu.com/ubuntu bionic-security/main amd64 Packages [889 kB]\n",
            "\u001b[33m\r0% [14 InRelease gpgv 74.6 kB] [Waiting for headers] [17 Packages 2,687 B/889 k\u001b[0m\r                                                                               \rGet:18 http://archive.ubuntu.com/ubuntu bionic-updates/universe amd64 Packages [1,371 kB]\n",
            "\u001b[33m\r0% [14 InRelease gpgv 74.6 kB] [18 Packages 2,685 B/1,371 kB 0%] [17 Packages 8\u001b[0m\u001b[33m\r22% [18 Packages 23.0 kB/1,371 kB 2%] [17 Packages 28.8 kB/889 kB 3%] [Connecti\u001b[0m\r                                                                               \rGet:19 http://ppa.launchpad.net/marutter/c2d4u3.5/ubuntu bionic/main Sources [1,810 kB]\n",
            "\u001b[33m\r25% [18 Packages 194 kB/1,371 kB 14%] [17 Packages 168 kB/889 kB 19%] [19 Sourc\u001b[0m\u001b[33m\r                                                                               \r41% [18 Packages 940 kB/1,371 kB 69%] [19 Sources 49.0 kB/1,810 kB 3%]\u001b[0m\r                                                                      \rGet:20 http://security.ubuntu.com/ubuntu bionic-security/restricted amd64 Packages [44.6 kB]\n",
            "Get:21 http://security.ubuntu.com/ubuntu bionic-security/universe amd64 Packages [839 kB]\n",
            "Get:22 http://archive.ubuntu.com/ubuntu bionic-updates/restricted amd64 Packages [59.0 kB]\n",
            "Get:23 http://archive.ubuntu.com/ubuntu bionic-updates/main amd64 Packages [1,183 kB]\n",
            "Get:24 http://archive.ubuntu.com/ubuntu bionic-updates/multiverse amd64 Packages [12.6 kB]\n",
            "Get:25 http://ppa.launchpad.net/marutter/c2d4u3.5/ubuntu bionic/main amd64 Packages [873 kB]\n",
            "Fetched 7,508 kB in 4s (1,906 kB/s)\n",
            "Reading package lists... Done\n",
            "Building dependency tree       \n",
            "Reading state information... Done\n",
            "50 packages can be upgraded. Run 'apt list --upgradable' to see them.\n",
            "Reading package lists... Done\n",
            "Building dependency tree       \n",
            "Reading state information... Done\n",
            "cmake is already the newest version (3.10.2-1ubuntu2.18.04.1).\n",
            "0 upgraded, 0 newly installed, 0 to remove and 50 not upgraded.\n",
            "Requirement already satisfied: dlib in /usr/local/lib/python3.6/dist-packages (19.18.0)\n",
            "cmake version 3.12.0\n",
            "\n",
            "CMake suite maintained and supported by Kitware (kitware.com/cmake).\n"
          ],
          "name": "stdout"
        }
      ]
    },
    {
      "cell_type": "markdown",
      "metadata": {
        "id": "Eg52TpN5ZIkZ"
      },
      "source": [
        "Installling CMake"
      ]
    },
    {
      "cell_type": "code",
      "metadata": {
        "id": "Zsvi4J7VL-Vb",
        "colab": {
          "base_uri": "https://localhost:8080/",
          "height": 34
        },
        "outputId": "78da83f0-a8fb-415d-98a6-b711e04cb2b9"
      },
      "source": [
        "!ls"
      ],
      "execution_count": null,
      "outputs": [
        {
          "output_type": "stream",
          "text": [
            "gdrive\tsample_data\n"
          ],
          "name": "stdout"
        }
      ]
    },
    {
      "cell_type": "code",
      "metadata": {
        "id": "KnKu1u_OjMLU"
      },
      "source": [
        "!ln -s \"/content/drive/My Drive/BTP6/darknet/\" \"/content/BTP6\"\n",
        "# '-s' flag is used to not print the commands they are executing in the console"
      ],
      "execution_count": null,
      "outputs": []
    },
    {
      "cell_type": "markdown",
      "metadata": {
        "id": "xXxxSCWBxlxC"
      },
      "source": [
        "Creating a link of BTP6(from myDrive) inside content"
      ]
    },
    {
      "cell_type": "code",
      "metadata": {
        "id": "JAMhgIi1xxxx"
      },
      "source": [
        "!pwd\n",
        "!ls"
      ],
      "execution_count": null,
      "outputs": []
    },
    {
      "cell_type": "code",
      "metadata": {
        "id": "KrMFY6SL7Nw6",
        "colab": {
          "base_uri": "https://localhost:8080/",
          "height": 34
        },
        "outputId": "e0a8e201-6e26-4224-97a4-eb9acd3ffddd"
      },
      "source": [
        "cd /content/gdrive/My Drive/BTP6/darknet/"
      ],
      "execution_count": null,
      "outputs": [
        {
          "output_type": "stream",
          "text": [
            "/content/gdrive/My Drive/BTP6/darknet\n"
          ],
          "name": "stdout"
        }
      ]
    },
    {
      "cell_type": "code",
      "metadata": {
        "id": "yQY2Lfr2yqXl"
      },
      "source": [
        "#Changing Variables OPENCV and GPU to include OPENCV and GPU \n",
        "!sed -i 's/OPENCV=0/OPENCV=1/g' Makefile # set OPENCV=1\n",
        "!sed -i 's/GPU=0/GPU=1/g' Makefile  # set GPU=1"
      ],
      "execution_count": null,
      "outputs": []
    },
    {
      "cell_type": "code",
      "metadata": {
        "id": "YkYkyDFdNzpj",
        "colab": {
          "base_uri": "https://localhost:8080/",
          "height": 34
        },
        "outputId": "19c7e680-9cdf-42d7-9960-bfd7e38176aa"
      },
      "source": [
        "!more Makefile \n",
        "# !more Makefile  to verify the changes reflected in the Makefile"
      ],
      "execution_count": null,
      "outputs": [
        {
          "output_type": "stream",
          "text": [
            "more: stat of Makefile failed: No such file or directory\n"
          ],
          "name": "stdout"
        }
      ]
    },
    {
      "cell_type": "code",
      "metadata": {
        "id": "_RLxmZvyyum1"
      },
      "source": [
        "!cat Makefile \n",
        "# To view Makefile"
      ],
      "execution_count": null,
      "outputs": []
    },
    {
      "cell_type": "code",
      "metadata": {
        "id": "ttpuTOADOdc5"
      },
      "source": [
        "!make\n",
        "# Creating an executable File from source code"
      ],
      "execution_count": null,
      "outputs": []
    },
    {
      "cell_type": "code",
      "metadata": {
        "id": "e4gIZ8F-Onr4"
      },
      "source": [
        "!cd /content/gdrive/My\\ Drive/BTP6/darknet/"
      ],
      "execution_count": null,
      "outputs": []
    },
    {
      "cell_type": "code",
      "metadata": {
        "id": "3YwfHBDi2OqG",
        "colab": {
          "base_uri": "https://localhost:8080/",
          "height": 204
        },
        "outputId": "fbae3927-df8e-42a4-d464-88bd6623c265"
      },
      "source": [
        "ls"
      ],
      "execution_count": null,
      "outputs": [
        {
          "output_type": "stream",
          "text": [
            " \u001b[0m\u001b[01;34m3rdparty\u001b[0m/           'Copy of chart.png'       Makefile\n",
            " appveyor.yml         \u001b[01;32mdarknet\u001b[0m*                 \u001b[01;32mnet_cam_v3.sh\u001b[0m*\n",
            " \u001b[01;34mbackup\u001b[0m/              DarknetConfig.cmake.in   \u001b[01;34mobj\u001b[0m/\n",
            " \u001b[01;34mbuild\u001b[0m/               darknet.py               predictions.jpg\n",
            " build.ps1            darknet_video.py         README.md\n",
            " \u001b[01;32mbuild.sh\u001b[0m*            \u001b[01;34mdata\u001b[0m/                    \u001b[01;34mresults\u001b[0m/\n",
            " \u001b[01;34mcfg\u001b[0m/                 \u001b[01;32mimage_yolov2.sh\u001b[0m*         \u001b[01;34mscripts\u001b[0m/\n",
            " chart.png            \u001b[01;32mimage_yolov3.sh\u001b[0m*         \u001b[01;34msrc\u001b[0m/\n",
            " chart_yolo-obj.png   \u001b[01;34minclude\u001b[0m/                 \u001b[01;32mvideo_v2.sh\u001b[0m*\n",
            " \u001b[01;34mcmake\u001b[0m/               \u001b[01;32mjson_mjpeg_streams.sh\u001b[0m*   \u001b[01;32mvideo_yolov3.sh\u001b[0m*\n",
            " CMakeLists.txt       LICENSE\n"
          ],
          "name": "stdout"
        }
      ]
    },
    {
      "cell_type": "code",
      "metadata": {
        "id": "5DlihMxR1hY8"
      },
      "source": [
        "!./darknet detector train ./build/darknet/x64/data/obj.data ./cfg/yolo-obj.cfg ./build/darknet/x64/backup/yolo-obj_last.weights -dont_show -map"
      ],
      "execution_count": null,
      "outputs": []
    },
    {
      "cell_type": "code",
      "metadata": {
        "id": "9JaAFq7kdPUv"
      },
      "source": [
        "'''!./darknet detector test data/obj.data yolo-obj.cfg yolo-obj_8000.weights  /content/BTP6/build/darknet/x64/data/qwer1.jpg '''"
      ],
      "execution_count": null,
      "outputs": []
    },
    {
      "cell_type": "markdown",
      "metadata": {
        "id": "SZzX8T-yQkV8"
      },
      "source": [
        "darknet.exe detector test data/obj.data yolo-obj.cfg yolo-obj_8000.weights"
      ]
    },
    {
      "cell_type": "code",
      "metadata": {
        "id": "i9p2fzJcPum7",
        "colab": {
          "base_uri": "https://localhost:8080/",
          "height": 1000
        },
        "outputId": "157941d3-395c-4e74-97ed-034ac64562fe"
      },
      "source": [
        "!./darknet detector test ./build/darknet/x64/data/obj.data  ./cfg/yolo-obj.cfg  ./build/darknet/x64/backup/yolo-obj_last.weights ./build/darknet/x64/data/obj/imgtest52.jpg"
      ],
      "execution_count": null,
      "outputs": [
        {
          "output_type": "stream",
          "text": [
            " CUDA-version: 10000 (10010), GPU count: 1  \n",
            " OpenCV version: 3.2.0\n",
            "net.optimized_memory = 0 \n",
            "batch = 1, time_steps = 1, train = 0 \n",
            "   layer   filters  size/strd(dil)      input                output\n",
            "   0 conv     32       3 x 3/ 1    416 x 416 x   3 ->  416 x 416 x  32 0.299 BF\n",
            "   1 conv     64       3 x 3/ 2    416 x 416 x  32 ->  208 x 208 x  64 1.595 BF\n",
            "   2 conv     32       1 x 1/ 1    208 x 208 x  64 ->  208 x 208 x  32 0.177 BF\n",
            "   3 conv     64       3 x 3/ 1    208 x 208 x  32 ->  208 x 208 x  64 1.595 BF\n",
            "   4 Shortcut Layer: 1,  wt = 0, wn = 0, outputs: 208 x 208 x  64 0.003 BF\n",
            "   5 conv    128       3 x 3/ 2    208 x 208 x  64 ->  104 x 104 x 128 1.595 BF\n",
            "   6 conv     64       1 x 1/ 1    104 x 104 x 128 ->  104 x 104 x  64 0.177 BF\n",
            "   7 conv    128       3 x 3/ 1    104 x 104 x  64 ->  104 x 104 x 128 1.595 BF\n",
            "   8 Shortcut Layer: 5,  wt = 0, wn = 0, outputs: 104 x 104 x 128 0.001 BF\n",
            "   9 conv     64       1 x 1/ 1    104 x 104 x 128 ->  104 x 104 x  64 0.177 BF\n",
            "  10 conv    128       3 x 3/ 1    104 x 104 x  64 ->  104 x 104 x 128 1.595 BF\n",
            "  11 Shortcut Layer: 8,  wt = 0, wn = 0, outputs: 104 x 104 x 128 0.001 BF\n",
            "  12 conv    256       3 x 3/ 2    104 x 104 x 128 ->   52 x  52 x 256 1.595 BF\n",
            "  13 conv    128       1 x 1/ 1     52 x  52 x 256 ->   52 x  52 x 128 0.177 BF\n",
            "  14 conv    256       3 x 3/ 1     52 x  52 x 128 ->   52 x  52 x 256 1.595 BF\n",
            "  15 Shortcut Layer: 12,  wt = 0, wn = 0, outputs:  52 x  52 x 256 0.001 BF\n",
            "  16 conv    128       1 x 1/ 1     52 x  52 x 256 ->   52 x  52 x 128 0.177 BF\n",
            "  17 conv    256       3 x 3/ 1     52 x  52 x 128 ->   52 x  52 x 256 1.595 BF\n",
            "  18 Shortcut Layer: 15,  wt = 0, wn = 0, outputs:  52 x  52 x 256 0.001 BF\n",
            "  19 conv    128       1 x 1/ 1     52 x  52 x 256 ->   52 x  52 x 128 0.177 BF\n",
            "  20 conv    256       3 x 3/ 1     52 x  52 x 128 ->   52 x  52 x 256 1.595 BF\n",
            "  21 Shortcut Layer: 18,  wt = 0, wn = 0, outputs:  52 x  52 x 256 0.001 BF\n",
            "  22 conv    128       1 x 1/ 1     52 x  52 x 256 ->   52 x  52 x 128 0.177 BF\n",
            "  23 conv    256       3 x 3/ 1     52 x  52 x 128 ->   52 x  52 x 256 1.595 BF\n",
            "  24 Shortcut Layer: 21,  wt = 0, wn = 0, outputs:  52 x  52 x 256 0.001 BF\n",
            "  25 conv    128       1 x 1/ 1     52 x  52 x 256 ->   52 x  52 x 128 0.177 BF\n",
            "  26 conv    256       3 x 3/ 1     52 x  52 x 128 ->   52 x  52 x 256 1.595 BF\n",
            "  27 Shortcut Layer: 24,  wt = 0, wn = 0, outputs:  52 x  52 x 256 0.001 BF\n",
            "  28 conv    128       1 x 1/ 1     52 x  52 x 256 ->   52 x  52 x 128 0.177 BF\n",
            "  29 conv    256       3 x 3/ 1     52 x  52 x 128 ->   52 x  52 x 256 1.595 BF\n",
            "  30 Shortcut Layer: 27,  wt = 0, wn = 0, outputs:  52 x  52 x 256 0.001 BF\n",
            "  31 conv    128       1 x 1/ 1     52 x  52 x 256 ->   52 x  52 x 128 0.177 BF\n",
            "  32 conv    256       3 x 3/ 1     52 x  52 x 128 ->   52 x  52 x 256 1.595 BF\n",
            "  33 Shortcut Layer: 30,  wt = 0, wn = 0, outputs:  52 x  52 x 256 0.001 BF\n",
            "  34 conv    128       1 x 1/ 1     52 x  52 x 256 ->   52 x  52 x 128 0.177 BF\n",
            "  35 conv    256       3 x 3/ 1     52 x  52 x 128 ->   52 x  52 x 256 1.595 BF\n",
            "  36 Shortcut Layer: 33,  wt = 0, wn = 0, outputs:  52 x  52 x 256 0.001 BF\n",
            "  37 conv    512       3 x 3/ 2     52 x  52 x 256 ->   26 x  26 x 512 1.595 BF\n",
            "  38 conv    256       1 x 1/ 1     26 x  26 x 512 ->   26 x  26 x 256 0.177 BF\n",
            "  39 conv    512       3 x 3/ 1     26 x  26 x 256 ->   26 x  26 x 512 1.595 BF\n",
            "  40 Shortcut Layer: 37,  wt = 0, wn = 0, outputs:  26 x  26 x 512 0.000 BF\n",
            "  41 conv    256       1 x 1/ 1     26 x  26 x 512 ->   26 x  26 x 256 0.177 BF\n",
            "  42 conv    512       3 x 3/ 1     26 x  26 x 256 ->   26 x  26 x 512 1.595 BF\n",
            "  43 Shortcut Layer: 40,  wt = 0, wn = 0, outputs:  26 x  26 x 512 0.000 BF\n",
            "  44 conv    256       1 x 1/ 1     26 x  26 x 512 ->   26 x  26 x 256 0.177 BF\n",
            "  45 conv    512       3 x 3/ 1     26 x  26 x 256 ->   26 x  26 x 512 1.595 BF\n",
            "  46 Shortcut Layer: 43,  wt = 0, wn = 0, outputs:  26 x  26 x 512 0.000 BF\n",
            "  47 conv    256       1 x 1/ 1     26 x  26 x 512 ->   26 x  26 x 256 0.177 BF\n",
            "  48 conv    512       3 x 3/ 1     26 x  26 x 256 ->   26 x  26 x 512 1.595 BF\n",
            "  49 Shortcut Layer: 46,  wt = 0, wn = 0, outputs:  26 x  26 x 512 0.000 BF\n",
            "  50 conv    256       1 x 1/ 1     26 x  26 x 512 ->   26 x  26 x 256 0.177 BF\n",
            "  51 conv    512       3 x 3/ 1     26 x  26 x 256 ->   26 x  26 x 512 1.595 BF\n",
            "  52 Shortcut Layer: 49,  wt = 0, wn = 0, outputs:  26 x  26 x 512 0.000 BF\n",
            "  53 conv    256       1 x 1/ 1     26 x  26 x 512 ->   26 x  26 x 256 0.177 BF\n",
            "  54 conv    512       3 x 3/ 1     26 x  26 x 256 ->   26 x  26 x 512 1.595 BF\n",
            "  55 Shortcut Layer: 52,  wt = 0, wn = 0, outputs:  26 x  26 x 512 0.000 BF\n",
            "  56 conv    256       1 x 1/ 1     26 x  26 x 512 ->   26 x  26 x 256 0.177 BF\n",
            "  57 conv    512       3 x 3/ 1     26 x  26 x 256 ->   26 x  26 x 512 1.595 BF\n",
            "  58 Shortcut Layer: 55,  wt = 0, wn = 0, outputs:  26 x  26 x 512 0.000 BF\n",
            "  59 conv    256       1 x 1/ 1     26 x  26 x 512 ->   26 x  26 x 256 0.177 BF\n",
            "  60 conv    512       3 x 3/ 1     26 x  26 x 256 ->   26 x  26 x 512 1.595 BF\n",
            "  61 Shortcut Layer: 58,  wt = 0, wn = 0, outputs:  26 x  26 x 512 0.000 BF\n",
            "  62 conv   1024       3 x 3/ 2     26 x  26 x 512 ->   13 x  13 x1024 1.595 BF\n",
            "  63 conv    512       1 x 1/ 1     13 x  13 x1024 ->   13 x  13 x 512 0.177 BF\n",
            "  64 conv   1024       3 x 3/ 1     13 x  13 x 512 ->   13 x  13 x1024 1.595 BF\n",
            "  65 Shortcut Layer: 62,  wt = 0, wn = 0, outputs:  13 x  13 x1024 0.000 BF\n",
            "  66 conv    512       1 x 1/ 1     13 x  13 x1024 ->   13 x  13 x 512 0.177 BF\n",
            "  67 conv   1024       3 x 3/ 1     13 x  13 x 512 ->   13 x  13 x1024 1.595 BF\n",
            "  68 Shortcut Layer: 65,  wt = 0, wn = 0, outputs:  13 x  13 x1024 0.000 BF\n",
            "  69 conv    512       1 x 1/ 1     13 x  13 x1024 ->   13 x  13 x 512 0.177 BF\n",
            "  70 conv   1024       3 x 3/ 1     13 x  13 x 512 ->   13 x  13 x1024 1.595 BF\n",
            "  71 Shortcut Layer: 68,  wt = 0, wn = 0, outputs:  13 x  13 x1024 0.000 BF\n",
            "  72 conv    512       1 x 1/ 1     13 x  13 x1024 ->   13 x  13 x 512 0.177 BF\n",
            "  73 conv   1024       3 x 3/ 1     13 x  13 x 512 ->   13 x  13 x1024 1.595 BF\n",
            "  74 Shortcut Layer: 71,  wt = 0, wn = 0, outputs:  13 x  13 x1024 0.000 BF\n",
            "  75 conv    512       1 x 1/ 1     13 x  13 x1024 ->   13 x  13 x 512 0.177 BF\n",
            "  76 conv   1024       3 x 3/ 1     13 x  13 x 512 ->   13 x  13 x1024 1.595 BF\n",
            "  77 conv    512       1 x 1/ 1     13 x  13 x1024 ->   13 x  13 x 512 0.177 BF\n",
            "  78 conv   1024       3 x 3/ 1     13 x  13 x 512 ->   13 x  13 x1024 1.595 BF\n",
            "  79 conv    512       1 x 1/ 1     13 x  13 x1024 ->   13 x  13 x 512 0.177 BF\n",
            "  80 conv   1024       3 x 3/ 1     13 x  13 x 512 ->   13 x  13 x1024 1.595 BF\n",
            "  81 conv     27       1 x 1/ 1     13 x  13 x1024 ->   13 x  13 x  27 0.009 BF\n",
            "  82 yolo\n",
            "[yolo] params: iou loss: mse (2), iou_norm: 0.75, cls_norm: 1.00, scale_x_y: 1.00\n",
            "  83 route  79 \t\t                           ->   13 x  13 x 512 \n",
            "  84 conv    256       1 x 1/ 1     13 x  13 x 512 ->   13 x  13 x 256 0.044 BF\n",
            "  85 upsample                 2x    13 x  13 x 256 ->   26 x  26 x 256\n",
            "  86 route  85 61 \t                           ->   26 x  26 x 768 \n",
            "  87 conv    256       1 x 1/ 1     26 x  26 x 768 ->   26 x  26 x 256 0.266 BF\n",
            "  88 conv    512       3 x 3/ 1     26 x  26 x 256 ->   26 x  26 x 512 1.595 BF\n",
            "  89 conv    256       1 x 1/ 1     26 x  26 x 512 ->   26 x  26 x 256 0.177 BF\n",
            "  90 conv    512       3 x 3/ 1     26 x  26 x 256 ->   26 x  26 x 512 1.595 BF\n",
            "  91 conv    256       1 x 1/ 1     26 x  26 x 512 ->   26 x  26 x 256 0.177 BF\n",
            "  92 conv    512       3 x 3/ 1     26 x  26 x 256 ->   26 x  26 x 512 1.595 BF\n",
            "  93 conv     27       1 x 1/ 1     26 x  26 x 512 ->   26 x  26 x  27 0.019 BF\n",
            "  94 yolo\n",
            "[yolo] params: iou loss: mse (2), iou_norm: 0.75, cls_norm: 1.00, scale_x_y: 1.00\n",
            "  95 route  91 \t\t                           ->   26 x  26 x 256 \n",
            "  96 conv    128       1 x 1/ 1     26 x  26 x 256 ->   26 x  26 x 128 0.044 BF\n",
            "  97 upsample                 2x    26 x  26 x 128 ->   52 x  52 x 128\n",
            "  98 route  97 36 \t                           ->   52 x  52 x 384 \n",
            "  99 conv    128       1 x 1/ 1     52 x  52 x 384 ->   52 x  52 x 128 0.266 BF\n",
            " 100 conv    256       3 x 3/ 1     52 x  52 x 128 ->   52 x  52 x 256 1.595 BF\n",
            " 101 conv    128       1 x 1/ 1     52 x  52 x 256 ->   52 x  52 x 128 0.177 BF\n",
            " 102 conv    256       3 x 3/ 1     52 x  52 x 128 ->   52 x  52 x 256 1.595 BF\n",
            " 103 conv    128       1 x 1/ 1     52 x  52 x 256 ->   52 x  52 x 128 0.177 BF\n",
            " 104 conv    256       3 x 3/ 1     52 x  52 x 128 ->   52 x  52 x 256 1.595 BF\n",
            " 105 conv     27       1 x 1/ 1     52 x  52 x 256 ->   52 x  52 x  27 0.037 BF\n",
            " 106 yolo\n",
            "[yolo] params: iou loss: mse (2), iou_norm: 0.75, cls_norm: 1.00, scale_x_y: 1.00\n",
            "Total BFLOPS 65.326 \n",
            "avg_outputs = 517320 \n",
            " Allocate additional workspace_size = 49.84 MB \n",
            "Loading weights from ./build/darknet/x64/backup/yolo-obj_last.weights...\n",
            " seen 64, trained: 288 K-images (4 Kilo-batches_64) \n",
            "Done! Loaded 107 layers from weights-file \n",
            "./build/darknet/x64/data/obj/imgtest52.jpg: Predicted in 1238.291000 milli-seconds.\n",
            "Abhi: 95%\n",
            "Karan: 99%\n",
            "Unable to init server: Could not connect: Connection refused\n",
            "\n",
            "(predictions:2186): Gtk-\u001b[1;33mWARNING\u001b[0m **: \u001b[34m17:46:15.809\u001b[0m: cannot open display: \n"
          ],
          "name": "stdout"
        }
      ]
    }
  ]
}